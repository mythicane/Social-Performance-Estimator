{
 "cells": [
  {
   "cell_type": "markdown",
   "id": "3ecff71a",
   "metadata": {},
   "source": [
    "## Social Preformance Estimator // Creating the dataset... A walk-through"
   ]
  },
  {
   "cell_type": "markdown",
   "id": "ed89f09a",
   "metadata": {},
   "source": [
    "### Author: Greta Perez-Haiek || As part of ML Engineering @ Rensselaer Polytechnic Institute"
   ]
  },
  {
   "cell_type": "markdown",
   "id": "5efe98c4",
   "metadata": {},
   "source": [
    "The purpose of this python file is to extract the feature vectors from the .jpg images extracted from my instagram profile.\n",
    "\n",
    "In the Github, the \"Images (jpg)\" folder under the \"Data\" folder contains 185 .jpg images that needs extracting: if you would like to use your own images, feel free to replace the images in this file with your own with a numerical naming conjunction of \"1.jpg, 2.jpg, 3.jpg ... \"n\".jpg\" where \"n\" is the number of total images that you will train/test the model upon. The purpose of this python file is to extract the feature vectors from the .jpg images in \"Images (jpg)\".\n",
    "\n",
    "Note: If you are interested in replacing the images with your own data, please make sure to also replace the data written in the \"y_likes_data.txt\" file with the number of likes corresponding to each image with the following conjunction: \n",
    "\n",
    "1: [1.jpg's likes]\n",
    "\n",
    "2: [2.jpg's likes]\n",
    "\n",
    "...\n",
    "\n",
    "\"n\": [\"n\".jpg's likes]\n",
    "\n",
    "where \"n\" is the number of total images that you will train/test the model upon. Make sure that each conjunction is in it's own line in the .txt file! If you need an example, feel free to glance the \"y_likes_data.txt\" file that is currently present."
   ]
  },
  {
   "cell_type": "code",
   "execution_count": null,
   "id": "93fe49be",
   "metadata": {},
   "outputs": [],
   "source": [
    "'''Assuming that the \"y_likes_data.txt\" and \"Images (jpg)\" folder is constructed correctly...\n",
    "It's time to extract the features in each .jpg file, then store them in the \"X_feature_vector_data.txt\" file!\n",
    "This file, along with \"y_likes_data.txt\", will used in the \"Training Model\" python file for machine learning purposes! '''\n",
    "\n",
    "\n"
   ]
  }
 ],
 "metadata": {
  "kernelspec": {
   "display_name": "Python 3 (ipykernel)",
   "language": "python",
   "name": "python3"
  },
  "language_info": {
   "codemirror_mode": {
    "name": "ipython",
    "version": 3
   },
   "file_extension": ".py",
   "mimetype": "text/x-python",
   "name": "python",
   "nbconvert_exporter": "python",
   "pygments_lexer": "ipython3",
   "version": "3.8.5"
  }
 },
 "nbformat": 4,
 "nbformat_minor": 5
}
