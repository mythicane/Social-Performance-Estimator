{
 "cells": [
  {
   "cell_type": "markdown",
   "id": "f5a2b506",
   "metadata": {},
   "source": [
    "## Social Preformance Estimator // Creating, Training, and Validating the model"
   ]
  },
  {
   "cell_type": "markdown",
   "id": "ec9d96a8",
   "metadata": {},
   "source": [
    "### Author: Greta Perez-Haiek || As part of ML Engineering @ Rensselaer Polytechnic Institute"
   ]
  },
  {
   "cell_type": "markdown",
   "id": "dd3d98e3",
   "metadata": {},
   "source": [
    "The purpose of this python file is to create a CNN regression architecture and train it upon the data (\"X_feature_vector_data.txt\" and \"y_likes_data.txt\" files) wrangled from \"Creating Dataset [1]\" python file. CNN regression, after consulting the literature review contained in the \"literature Review\" folder, is deemed to be the best way to predict the number of \"likes\" from abstract image data. \n",
    "\n",
    "First, data stored in the text files will be imported as X and y variables. For this model, we are using a 80/20 validation split to train and test the data. This means that approximately 80% of the data will be used for training purposes, and 20% of the data will be used for validation purposes."
   ]
  },
  {
   "cell_type": "code",
   "execution_count": 70,
   "id": "878ffa16",
   "metadata": {},
   "outputs": [
    {
     "name": "stdout",
     "output_type": "stream",
     "text": [
      "Success! Data properly split!\n",
      "Size of training data is... 148\n",
      "Size of testing data is... 37\n"
     ]
    }
   ],
   "source": [
    "import numpy as np\n",
    "import tensorflow as tf\n",
    "from tensorflow import keras\n",
    "from sklearn.model_selection import train_test_split\n",
    "from keras.models import Sequential\n",
    "from keras.layers import Dense, Conv2D, MaxPooling2D, Flatten\n",
    "import matplotlib.pyplot as plt\n",
    "\n",
    "#Loads data from textfiles!\n",
    "X = np.loadtxt('Data/X_feature_vector_data.txt') #This correctly generates the data!\n",
    "y = np.loadtxt(\"Data/y_likes_data.txt\", comments='#', delimiter=\":\") \n",
    "y = y[:, 1] #y[:, 1] = likes!\n",
    "\n",
    "X = X.reshape(X.shape[0], X.shape[1], 1, 1) #reshapes the \"X\" data....\n",
    "\n",
    "#create testing and training sets!\n",
    "X_train, X_test, y_train, y_test = train_test_split(X, y, test_size=0.2, random_state=42)\n",
    "print(\"Success! Data properly split!\")\n",
    "print(\"Size of training data is...\", X_train[:,1].size)\n",
    "print(\"Size of testing data is...\", X_test[:,1].size)"
   ]
  },
  {
   "cell_type": "markdown",
   "id": "5fb7fedf",
   "metadata": {},
   "source": [
    "We will also be using Tensorflow Keras to create our neural network. The following neural network model to be used is a Convolutional Neural Network (CNN), specifically, a regression type. With reference to the various literature data, Convolutional Neural Networks are commonly used in computer vision applications and are an excellent way to make predictions based on image data alone. Regression models are known to scale testing data against training data, and then estiamte where the testing data occurs on the training data trends (and what their associated target value will be).\n",
    "\n",
    "The specific CNN Architecture we will use is vaguely inspired by Google's Inception-v3 AI (see Literature Review for PDF of the paper). Of course, implimenting the entire AI model architecture would be complicated and (frankly) \"over-kill\" for the type of challenge at hand. Nevertheless, the inspiration of layering \"Covolutional Layers,\"Max pooling\" layers, \"Dense\", \"Flatten\", and \"Drop out layers\" comes from Inception-V3's complex (but elegant) architecture, and the use of these specific layers will be used in my own architecture in my own simplified model.\n",
    "\n",
    "**IMPORTANT NOTE**: As of 4/1/2024, my model (clearly) is not working right now. The error shown below would potentially be resolved through data massaging. I plan on showing the accuracy in terms of \"mean squared error,\" and potentially impliment other methods to see whether they produce more optimal results (such as K-means Regression, as I read in a paper \"Prediction of image popularity over time on social media networks\" (see Literature Review folder for PDF) that it might be possible to use K-Means to compose regression tasks. "
   ]
  },
  {
   "cell_type": "code",
   "execution_count": 71,
   "id": "eb50cb9f",
   "metadata": {},
   "outputs": [
    {
     "ename": "ValueError",
     "evalue": "One of the dimensions in the output is <= 0 due to downsampling in conv2d. Consider increasing the input size. Received input shape [None, 148, 12288, 1, 1] which would produce output shape with a zero or negative value in a dimension.",
     "output_type": "error",
     "traceback": [
      "\u001b[1;31m---------------------------------------------------------------------------\u001b[0m",
      "\u001b[1;31mValueError\u001b[0m                                Traceback (most recent call last)",
      "Cell \u001b[1;32mIn [71], line 4\u001b[0m\n\u001b[0;32m      1\u001b[0m tf\u001b[38;5;241m.\u001b[39mkeras\u001b[38;5;241m.\u001b[39mbackend\u001b[38;5;241m.\u001b[39mclear_session() \u001b[38;5;66;03m#clears model every reload\u001b[39;00m\n\u001b[0;32m      3\u001b[0m model \u001b[38;5;241m=\u001b[39m Sequential()\n\u001b[1;32m----> 4\u001b[0m \u001b[43mmodel\u001b[49m\u001b[38;5;241;43m.\u001b[39;49m\u001b[43madd\u001b[49m\u001b[43m(\u001b[49m\u001b[43mConv2D\u001b[49m\u001b[43m(\u001b[49m\u001b[38;5;241;43m32\u001b[39;49m\u001b[43m,\u001b[49m\u001b[43m \u001b[49m\u001b[43m(\u001b[49m\u001b[38;5;241;43m3\u001b[39;49m\u001b[43m,\u001b[49m\u001b[38;5;241;43m3\u001b[39;49m\u001b[43m)\u001b[49m\u001b[43m,\u001b[49m\u001b[43m \u001b[49m\u001b[43mactivation\u001b[49m\u001b[38;5;241;43m=\u001b[39;49m\u001b[38;5;124;43m'\u001b[39;49m\u001b[38;5;124;43mrelu\u001b[39;49m\u001b[38;5;124;43m'\u001b[39;49m\u001b[43m,\u001b[49m\u001b[43m \u001b[49m\u001b[43minput_shape\u001b[49m\u001b[43m \u001b[49m\u001b[38;5;241;43m=\u001b[39;49m\u001b[43m \u001b[49m\u001b[43m(\u001b[49m\u001b[43mX_train\u001b[49m\u001b[38;5;241;43m.\u001b[39;49m\u001b[43mshape\u001b[49m\u001b[43m)\u001b[49m\u001b[43m)\u001b[49m\u001b[43m)\u001b[49m \u001b[38;5;66;03m#2D Conv w/ 64 filters, size (5, 5), ReLU Activation\u001b[39;00m\n\u001b[0;32m      6\u001b[0m model\u001b[38;5;241m.\u001b[39madd(MaxPooling2D(pool_size\u001b[38;5;241m=\u001b[39m(\u001b[38;5;241m2\u001b[39m, \u001b[38;5;241m2\u001b[39m))) \u001b[38;5;66;03m#max pooling layer of size (2, 2)\u001b[39;00m\n\u001b[0;32m      8\u001b[0m model\u001b[38;5;241m.\u001b[39madd(Conv2D(\u001b[38;5;241m64\u001b[39m, (\u001b[38;5;241m3\u001b[39m,\u001b[38;5;241m3\u001b[39m), activation\u001b[38;5;241m=\u001b[39m\u001b[38;5;124m'\u001b[39m\u001b[38;5;124mrelu\u001b[39m\u001b[38;5;124m'\u001b[39m, input_shape\u001b[38;5;241m=\u001b[39m X_train\u001b[38;5;241m.\u001b[39mshape[\u001b[38;5;241m1\u001b[39m:])) \u001b[38;5;66;03m#2D Conv w/ 64 filters, size (5, 5), ReLU Activation\u001b[39;00m\n",
      "File \u001b[1;32mc:\\users\\661994646\\miniconda3.0\\lib\\site-packages\\tensorflow\\python\\trackable\\base.py:205\u001b[0m, in \u001b[0;36mno_automatic_dependency_tracking.<locals>._method_wrapper\u001b[1;34m(self, *args, **kwargs)\u001b[0m\n\u001b[0;32m    203\u001b[0m \u001b[38;5;28mself\u001b[39m\u001b[38;5;241m.\u001b[39m_self_setattr_tracking \u001b[38;5;241m=\u001b[39m \u001b[38;5;28;01mFalse\u001b[39;00m  \u001b[38;5;66;03m# pylint: disable=protected-access\u001b[39;00m\n\u001b[0;32m    204\u001b[0m \u001b[38;5;28;01mtry\u001b[39;00m:\n\u001b[1;32m--> 205\u001b[0m   result \u001b[38;5;241m=\u001b[39m \u001b[43mmethod\u001b[49m\u001b[43m(\u001b[49m\u001b[38;5;28;43mself\u001b[39;49m\u001b[43m,\u001b[49m\u001b[43m \u001b[49m\u001b[38;5;241;43m*\u001b[39;49m\u001b[43margs\u001b[49m\u001b[43m,\u001b[49m\u001b[43m \u001b[49m\u001b[38;5;241;43m*\u001b[39;49m\u001b[38;5;241;43m*\u001b[39;49m\u001b[43mkwargs\u001b[49m\u001b[43m)\u001b[49m\n\u001b[0;32m    206\u001b[0m \u001b[38;5;28;01mfinally\u001b[39;00m:\n\u001b[0;32m    207\u001b[0m   \u001b[38;5;28mself\u001b[39m\u001b[38;5;241m.\u001b[39m_self_setattr_tracking \u001b[38;5;241m=\u001b[39m previous_value  \u001b[38;5;66;03m# pylint: disable=protected-access\u001b[39;00m\n",
      "File \u001b[1;32mc:\\users\\661994646\\miniconda3.0\\lib\\site-packages\\keras\\utils\\traceback_utils.py:70\u001b[0m, in \u001b[0;36mfilter_traceback.<locals>.error_handler\u001b[1;34m(*args, **kwargs)\u001b[0m\n\u001b[0;32m     67\u001b[0m     filtered_tb \u001b[38;5;241m=\u001b[39m _process_traceback_frames(e\u001b[38;5;241m.\u001b[39m__traceback__)\n\u001b[0;32m     68\u001b[0m     \u001b[38;5;66;03m# To get the full stack trace, call:\u001b[39;00m\n\u001b[0;32m     69\u001b[0m     \u001b[38;5;66;03m# `tf.debugging.disable_traceback_filtering()`\u001b[39;00m\n\u001b[1;32m---> 70\u001b[0m     \u001b[38;5;28;01mraise\u001b[39;00m e\u001b[38;5;241m.\u001b[39mwith_traceback(filtered_tb) \u001b[38;5;28;01mfrom\u001b[39;00m \u001b[38;5;28mNone\u001b[39m\n\u001b[0;32m     71\u001b[0m \u001b[38;5;28;01mfinally\u001b[39;00m:\n\u001b[0;32m     72\u001b[0m     \u001b[38;5;28;01mdel\u001b[39;00m filtered_tb\n",
      "File \u001b[1;32mc:\\users\\661994646\\miniconda3.0\\lib\\site-packages\\keras\\layers\\convolutional\\base_conv.py:347\u001b[0m, in \u001b[0;36mConv.compute_output_shape\u001b[1;34m(self, input_shape)\u001b[0m\n\u001b[0;32m    340\u001b[0m         \u001b[38;5;28;01mreturn\u001b[39;00m tf\u001b[38;5;241m.\u001b[39mTensorShape(\n\u001b[0;32m    341\u001b[0m             input_shape[:batch_rank]\n\u001b[0;32m    342\u001b[0m             \u001b[38;5;241m+\u001b[39m [\u001b[38;5;28mself\u001b[39m\u001b[38;5;241m.\u001b[39mfilters]\n\u001b[0;32m    343\u001b[0m             \u001b[38;5;241m+\u001b[39m \u001b[38;5;28mself\u001b[39m\u001b[38;5;241m.\u001b[39m_spatial_output_shape(input_shape[batch_rank \u001b[38;5;241m+\u001b[39m \u001b[38;5;241m1\u001b[39m :])\n\u001b[0;32m    344\u001b[0m         )\n\u001b[0;32m    346\u001b[0m \u001b[38;5;28;01mexcept\u001b[39;00m \u001b[38;5;167;01mValueError\u001b[39;00m:\n\u001b[1;32m--> 347\u001b[0m     \u001b[38;5;28;01mraise\u001b[39;00m \u001b[38;5;167;01mValueError\u001b[39;00m(\n\u001b[0;32m    348\u001b[0m         \u001b[38;5;124mf\u001b[39m\u001b[38;5;124m\"\u001b[39m\u001b[38;5;124mOne of the dimensions in the output is <= 0 \u001b[39m\u001b[38;5;124m\"\u001b[39m\n\u001b[0;32m    349\u001b[0m         \u001b[38;5;124mf\u001b[39m\u001b[38;5;124m\"\u001b[39m\u001b[38;5;124mdue to downsampling in \u001b[39m\u001b[38;5;132;01m{\u001b[39;00m\u001b[38;5;28mself\u001b[39m\u001b[38;5;241m.\u001b[39mname\u001b[38;5;132;01m}\u001b[39;00m\u001b[38;5;124m. Consider \u001b[39m\u001b[38;5;124m\"\u001b[39m\n\u001b[0;32m    350\u001b[0m         \u001b[38;5;124mf\u001b[39m\u001b[38;5;124m\"\u001b[39m\u001b[38;5;124mincreasing the input size. \u001b[39m\u001b[38;5;124m\"\u001b[39m\n\u001b[0;32m    351\u001b[0m         \u001b[38;5;124mf\u001b[39m\u001b[38;5;124m\"\u001b[39m\u001b[38;5;124mReceived input shape \u001b[39m\u001b[38;5;132;01m{\u001b[39;00minput_shape\u001b[38;5;132;01m}\u001b[39;00m\u001b[38;5;124m which would produce \u001b[39m\u001b[38;5;124m\"\u001b[39m\n\u001b[0;32m    352\u001b[0m         \u001b[38;5;124mf\u001b[39m\u001b[38;5;124m\"\u001b[39m\u001b[38;5;124moutput shape with a zero or negative value in a \u001b[39m\u001b[38;5;124m\"\u001b[39m\n\u001b[0;32m    353\u001b[0m         \u001b[38;5;124mf\u001b[39m\u001b[38;5;124m\"\u001b[39m\u001b[38;5;124mdimension.\u001b[39m\u001b[38;5;124m\"\u001b[39m\n\u001b[0;32m    354\u001b[0m     )\n",
      "\u001b[1;31mValueError\u001b[0m: One of the dimensions in the output is <= 0 due to downsampling in conv2d. Consider increasing the input size. Received input shape [None, 148, 12288, 1, 1] which would produce output shape with a zero or negative value in a dimension."
     ]
    }
   ],
   "source": [
    "tf.keras.backend.clear_session() #clears model every reload\n",
    "\n",
    "model = Sequential()\n",
    "model.add(Conv2D(32, (3,3), activation='relu', input_shape = (X_train.shape))) #2D Conv w/ 64 filters, size (5, 5), ReLU Activation\n",
    "\n",
    "model.add(MaxPooling2D(pool_size=(2, 2))) #max pooling layer of size (2, 2)\n",
    "\n",
    "model.add(Conv2D(64, (3,3), activation='relu', input_shape= X_train.shape[1:])) #2D Conv w/ 64 filters, size (5, 5), ReLU Activation\n",
    "\n",
    "model.add(MaxPooling2D(pool_size=(2, 2))) #max pooling layer of size (2, 2)\n",
    "\n",
    "model.add(Flatten()) #Flatten layer --> convert to 1D vector\n",
    "model.add(Dense(128, activation='relu')) #Dense layer with 128 neurons and uses the ReLU activation\n",
    "model.add(Dropout(rate = 0.2)) #drop 20% of the features out of the image...\n",
    "model.add(Dense(1, activation='linear')) #produces number of estimated \"likes\"!!\n",
    "\n",
    "model.summary() #prints out the summary of the model for visualization purposes..."
   ]
  },
  {
   "cell_type": "code",
   "execution_count": 72,
   "id": "6d81f5e1",
   "metadata": {},
   "outputs": [
    {
     "name": "stdout",
     "output_type": "stream",
     "text": [
      "Epoch 1/10\n",
      "3/3 [==============================] - 0s 128ms/step - loss: 8323.2939 - accuracy: 0.0000e+00 - val_loss: 7346.3726 - val_accuracy: 0.0000e+00\n",
      "Epoch 2/10\n",
      "3/3 [==============================] - 0s 87ms/step - loss: 8331.3662 - accuracy: 0.0000e+00 - val_loss: 7346.3726 - val_accuracy: 0.0000e+00\n",
      "Epoch 3/10\n",
      "3/3 [==============================] - 0s 89ms/step - loss: 8280.7383 - accuracy: 0.0000e+00 - val_loss: 7346.3726 - val_accuracy: 0.0000e+00\n",
      "Epoch 4/10\n",
      "3/3 [==============================] - 0s 85ms/step - loss: 8364.1123 - accuracy: 0.0000e+00 - val_loss: 7346.3726 - val_accuracy: 0.0000e+00\n",
      "Epoch 5/10\n",
      "3/3 [==============================] - 0s 85ms/step - loss: 8333.6670 - accuracy: 0.0000e+00 - val_loss: 7346.3726 - val_accuracy: 0.0000e+00\n",
      "Epoch 6/10\n",
      "3/3 [==============================] - 0s 86ms/step - loss: 8348.4902 - accuracy: 0.0000e+00 - val_loss: 7346.3726 - val_accuracy: 0.0000e+00\n",
      "Epoch 7/10\n",
      "3/3 [==============================] - 0s 85ms/step - loss: 8254.6035 - accuracy: 0.0000e+00 - val_loss: 7346.3726 - val_accuracy: 0.0000e+00\n",
      "Epoch 8/10\n",
      "3/3 [==============================] - 0s 86ms/step - loss: 8307.5596 - accuracy: 0.0000e+00 - val_loss: 7346.3726 - val_accuracy: 0.0000e+00\n",
      "Epoch 9/10\n",
      "3/3 [==============================] - 0s 89ms/step - loss: 8336.8174 - accuracy: 0.0000e+00 - val_loss: 7346.3726 - val_accuracy: 0.0000e+00\n",
      "Epoch 10/10\n",
      "3/3 [==============================] - 0s 86ms/step - loss: 8313.5459 - accuracy: 0.0000e+00 - val_loss: 7346.3726 - val_accuracy: 0.0000e+00\n"
     ]
    }
   ],
   "source": [
    "opt =  keras.optimizers.Adam(learning_rate= 0.001) #establishes optimizer \n",
    "model.compile(optimizer = opt, loss='mse', metrics=['accuracy']) #compiles model\n",
    "\n",
    "#Gets training and validation Losses and Accuracies w/ EPOCH = 10 and BATCH SIZE = 64\n",
    "history = model.fit(X_train, y_train, epochs=10, batch_size=64, validation_data=(X_test, y_test)) #fits the model"
   ]
  },
  {
   "cell_type": "markdown",
   "id": "626e1726",
   "metadata": {},
   "source": [
    "How did my model do? Below, we will then print out the validation statements to make sure that the model is sound..."
   ]
  },
  {
   "cell_type": "code",
   "execution_count": 73,
   "id": "4f2da378",
   "metadata": {},
   "outputs": [
    {
     "data": {
      "image/png": "[encoded data removed]",
      "text/plain": [
       "<Figure size 640x480 with 1 Axes>"
      ]
     },
     "metadata": {},
     "output_type": "display_data"
    }
   ],
   "source": [
    "#Lets plot the accuracy of TRAINING and TESTING\n",
    "plt.plot(history.history['accuracy'])\n",
    "plt.plot(history.history['val_accuracy'])\n",
    "plt.title('Model Training/Testing Accuracy')\n",
    "plt.ylabel('Accuracy')\n",
    "plt.xlabel('Epoch')\n",
    "plt.legend(['Training', 'Validation'])\n",
    "plt.show()"
   ]
  },
  {
   "cell_type": "markdown",
   "id": "c97c8bd0",
   "metadata": {},
   "source": [
    "Stay tuned for an updated model soon!"
   ]
  }
 ],
 "metadata": {
  "kernelspec": {
   "display_name": "Python 3 (ipykernel)",
   "language": "python",
   "name": "python3"
  },
  "language_info": {
   "codemirror_mode": {
    "name": "ipython",
    "version": 3
   },
   "file_extension": ".py",
   "mimetype": "text/x-python",
   "name": "python",
   "nbconvert_exporter": "python",
   "pygments_lexer": "ipython3",
   "version": "3.8.5"
  }
 },
 "nbformat": 4,
 "nbformat_minor": 5
}
