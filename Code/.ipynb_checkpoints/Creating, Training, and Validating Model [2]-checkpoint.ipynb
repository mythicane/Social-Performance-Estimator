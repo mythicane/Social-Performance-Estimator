{
 "cells": [
  {
   "cell_type": "markdown",
   "id": "6cc0ccf2",
   "metadata": {},
   "source": [
    "## Social Preformance Estimator // Creating, Training, and Validating the model"
   ]
  },
  {
   "cell_type": "markdown",
   "id": "91705ac9",
   "metadata": {},
   "source": [
    "### Author: Greta Perez-Haiek || As part of ML Engineering @ Rensselaer Polytechnic Institute"
   ]
  },
  {
   "cell_type": "markdown",
   "id": "9b374321",
   "metadata": {},
   "source": [
    "The purpose of this python file is to create a CNN regression architecture and train it upon the data (\"X_feature_vector_data.txt\" and \"y_likes_data.txt\" files) wrangled from \"Creating Dataset [1]\" python file. CNN regression, after consulting the literature review contained in the \"literature Review\" folder, is deemed to be the best way to predict the number of \"likes\" from abstract image data. "
   ]
  }
 ],
 "metadata": {
  "kernelspec": {
   "display_name": "Python 3 (ipykernel)",
   "language": "python",
   "name": "python3"
  },
  "language_info": {
   "codemirror_mode": {
    "name": "ipython",
    "version": 3
   },
   "file_extension": ".py",
   "mimetype": "text/x-python",
   "name": "python",
   "nbconvert_exporter": "python",
   "pygments_lexer": "ipython3",
   "version": "3.8.5"
  }
 },
 "nbformat": 4,
 "nbformat_minor": 5
}
