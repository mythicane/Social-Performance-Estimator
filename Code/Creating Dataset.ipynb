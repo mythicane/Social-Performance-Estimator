{
 "cells": [
  {
   "cell_type": "markdown",
   "id": "d86f86c5",
   "metadata": {},
   "source": [
    "## Social Preformance Estimator // Creating the dataset... A walk-through"
   ]
  },
  {
   "cell_type": "markdown",
   "id": "a392a818",
   "metadata": {},
   "source": [
    "### Author: Greta Perez-Haiek || As part of ML Engineering @ Rensselaer Polytechnic Institute"
   ]
  },
  {
   "cell_type": "markdown",
   "id": "e242045d",
   "metadata": {},
   "source": [
    "The purpose of this python file is to extract the feature vectors from the .jpg images extracted from my instagram profile.\n",
    "\n",
    "In the Github, the \"Images (jpg)\" folder under the \"Data\" folder contains 185 .jpg images that needs extracting: if you would like to use your own images, feel free to replace the images in this file with your own with a numerical naming conjunction of \"1.jpg, 2.jpg, 3.jpg ... \"n\".jpg\" where \"n\" is the number of total images that you will train/test the model upon. The purpose of this python file is to extract the feature vectors from the .jpg images in \"Images (jpg)\".\n",
    "\n",
    "Note: If you are interested in replacing the images with your own data, please make sure to also replace the data written in the \"y_likes_data.txt\" file with the number of likes corresponding to each image with the following conjunction: \n",
    "\n",
    "1: [1.jpg's likes]\n",
    "\n",
    "2: [2.jpg's likes]\n",
    "\n",
    "...\n",
    "\n",
    "\"n\": [\"n\".jpg's likes]\n",
    "\n",
    "where \"n\" is the number of total images that you will train/test the model upon. Make sure that each conjunction is in it's own line in the .txt file! If you need an example, feel free to glance the \"y_likes_data.txt\" file that is currently present."
   ]
  },
  {
   "cell_type": "code",
   "execution_count": 50,
   "id": "b8b5bae8",
   "metadata": {},
   "outputs": [],
   "source": [
    "'''Assuming that the \"y_likes_data.txt\" and \"Images (jpg)\" folder is constructed correctly...\n",
    "It's time to extract the features in each .jpg file, then store them in the \"X_feature_vector_data.txt\" file!\n",
    "This file, along with \"y_likes_data.txt\", will used in the \"Training Model\" python file for machine learning purposes! '''\n",
    "\n",
    "import numpy as np\n",
    "import cv2\n",
    "\n",
    "#import \"y\" data\n",
    "y = np.loadtxt(\"Data/y_likes_data.txt\", comments='#', delimiter=\":\") #y[:, 0] = jpg number, #y[:, 1] = likes!\n",
    "X = [] #creates empty numpy array\n",
    "\n",
    "#Extracts data from Images folder then appends to X variable\n",
    "for i in range(y[:, 1].size):\n",
    "    image = cv2.imread(\"Data/Images (jpg)/\" + str(i+1) + \".jpg\") #imports image\n",
    "    target_size = (64, 64)\n",
    "    image = cv2.resize(image, target_size) #resizes image\n",
    "    image = np.array(image) #Converts image to an numpy array\n",
    "    image = image.flatten() #converts numpy array to a 1D array\n",
    "    X.append(image) #appends it to X\n",
    "X = np.array(X) #converts X into numpy array\n",
    "np.savetxt(\"Data/X_feature_vector_data.txt\", X)#imports X variable into the \"X_feature_vector_data.txt\" file\n"
   ]
  },
  {
   "cell_type": "markdown",
   "id": "8d2c7f93",
   "metadata": {},
   "source": [
    "Run this python file (with the images in it's correct folder) to get y and X data!\n",
    "Congrats, now we're ready to train our neural network!"
   ]
  }
 ],
 "metadata": {
  "kernelspec": {
   "display_name": "Python 3 (ipykernel)",
   "language": "python",
   "name": "python3"
  },
  "language_info": {
   "codemirror_mode": {
    "name": "ipython",
    "version": 3
   },
   "file_extension": ".py",
   "mimetype": "text/x-python",
   "name": "python",
   "nbconvert_exporter": "python",
   "pygments_lexer": "ipython3",
   "version": "3.8.5"
  }
 },
 "nbformat": 4,
 "nbformat_minor": 5
}
