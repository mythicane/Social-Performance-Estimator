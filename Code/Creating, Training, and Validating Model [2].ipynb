{
 "cells": [
  {
   "cell_type": "markdown",
   "id": "03a9f8d7",
   "metadata": {},
   "source": [
    "## Social Preformance Estimator // Creating, Training, and Validating the model"
   ]
  },
  {
   "cell_type": "markdown",
   "id": "7cc3ea48",
   "metadata": {},
   "source": [
    "### Author: Greta Perez-Haiek || As part of ML Engineering @ Rensselaer Polytechnic Institute"
   ]
  },
  {
   "cell_type": "markdown",
   "id": "bb20138c",
   "metadata": {},
   "source": [
    "The purpose of this python file is to create a CNN regression architecture and train it upon the data (\"X_feature_vector_data.txt\" and \"y_likes_data.txt\" files) wrangled from \"Creating Dataset [1]\" python file. CNN regression, after consulting the literature review contained in the \"literature Review\" folder, is deemed to be the best way to predict the number of \"likes\" from abstract image data. \n",
    "\n",
    "First, data stored in the text files will be imported as X and y variables. For this model, we are using a 80/20 validation split to train and test the data."
   ]
  },
  {
   "cell_type": "code",
   "execution_count": null,
   "id": "31bd61fd",
   "metadata": {},
   "outputs": [],
   "source": []
  }
 ],
 "metadata": {
  "kernelspec": {
   "display_name": "Python 3 (ipykernel)",
   "language": "python",
   "name": "python3"
  },
  "language_info": {
   "codemirror_mode": {
    "name": "ipython",
    "version": 3
   },
   "file_extension": ".py",
   "mimetype": "text/x-python",
   "name": "python",
   "nbconvert_exporter": "python",
   "pygments_lexer": "ipython3",
   "version": "3.8.5"
  }
 },
 "nbformat": 4,
 "nbformat_minor": 5
}
